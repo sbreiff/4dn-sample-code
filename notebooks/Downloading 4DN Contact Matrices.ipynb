{
 "cells": [
  {
   "cell_type": "code",
   "execution_count": 1,
   "metadata": {},
   "outputs": [],
   "source": [
    "import json\n",
    "import requests\n",
    "\n",
    "from dcicutils import ff_utils"
   ]
  },
  {
   "cell_type": "code",
   "execution_count": 3,
   "metadata": {},
   "outputs": [],
   "source": [
    "# first, load in your access key, using the correct path and key name.\n",
    "keyname = 'data'\n",
    "with open('../../keypairs.json', 'r') as keyfile:\n",
    "    my_key = json.load(keyfile)[keyname]"
   ]
  },
  {
   "cell_type": "code",
   "execution_count": 4,
   "metadata": {},
   "outputs": [],
   "source": [
    "# collect all the biosources in 4DN\n",
    "biosources = ff_utils.search_metadata('biosources/?frame=object', key=my_key)"
   ]
  },
  {
   "cell_type": "code",
   "execution_count": 5,
   "metadata": {},
   "outputs": [
    {
     "data": {
      "text/plain": [
       "{'@id': '/biosources/4DNSRB6N74S2/',\n",
       " '@type': ['Biosource', 'Item'],\n",
       " 'accession': '4DNSRB6N74S2',\n",
       " 'aliases': ['4dn-dcic-lab:CD1-mouse-wt-thymocytes'],\n",
       " 'award': '/awards/1U01CA200059-01/',\n",
       " 'biosource_category': ['Multicellular Tissue'],\n",
       " 'biosource_name': 'thymocyte',\n",
       " 'biosource_type': 'tissue',\n",
       " 'cell_line_tier': 'Unclassified',\n",
       " 'date_created': '2019-09-26T18:43:00.517775+00:00',\n",
       " 'description': 'Thymocytes isolated from a WT CD1 mouse',\n",
       " 'display_title': 'thymocyte - 4DNSRB6N74S2',\n",
       " 'external_references': [],\n",
       " 'individual': '/individuals-mouse/4DNIN623JJBI/',\n",
       " 'lab': '/labs/4dn-dcic-lab/',\n",
       " 'last_modified': {'date_modified': '2019-10-21T17:17:34.355856+00:00',\n",
       "  'modified_by': '/users/e2324f87-0625-4bbc-803b-d47677aebe08/'},\n",
       " 'principals_allowed': {'edit': ['group.admin'], 'view': ['system.Everyone']},\n",
       " 'project_release': '2019-10-21',\n",
       " 'public_release': '2019-10-21',\n",
       " 'schema_version': '2',\n",
       " 'status': 'released',\n",
       " 'submitted_by': '/users/e2324f87-0625-4bbc-803b-d47677aebe08/',\n",
       " 'tissue': '/ontology-terms/CL:0000893/',\n",
       " 'uuid': '313ca9fc-7ae6-4113-ad8d-c3058d15e599'}"
      ]
     },
     "execution_count": 5,
     "metadata": {},
     "output_type": "execute_result"
    }
   ],
   "source": [
    "# sample json\n",
    "biosources[6]"
   ]
  },
  {
   "cell_type": "code",
   "execution_count": 6,
   "metadata": {},
   "outputs": [],
   "source": [
    "# collect all the experiment types in 4DN\n",
    "exp_types = [item['display_title'] for item in ff_utils.search_metadata('experiment-types', key=my_key)]"
   ]
  },
  {
   "cell_type": "code",
   "execution_count": 7,
   "metadata": {},
   "outputs": [
    {
     "data": {
      "text/plain": [
       "['pA-DamID',\n",
       " 'ChIA-Drop',\n",
       " 'in situ ChIA-PET',\n",
       " 'single cell Methyl Hi-C',\n",
       " 'Methyl Hi-C',\n",
       " 'Bru-seq',\n",
       " 'Immunofluorescence',\n",
       " 'Electron Tomography',\n",
       " 'TRIP',\n",
       " 'Dilution Hi-C',\n",
       " 'DNase Hi-C',\n",
       " 'Micro-C',\n",
       " 'ATAC-seq',\n",
       " 'Capture Hi-C',\n",
       " 'PLAC-seq',\n",
       " '2-stage Repli-seq',\n",
       " 'DNA SPRITE',\n",
       " 'single cell Hi-C',\n",
       " 'sci-Hi-C',\n",
       " 'GAM',\n",
       " 'MARGI',\n",
       " 'TCC',\n",
       " 'in situ Hi-C',\n",
       " 'ChIA-PET',\n",
       " 'DamID-seq',\n",
       " 'DNA FISH',\n",
       " 'Multi-stage Repli-seq',\n",
       " 'TSA-seq',\n",
       " 'ChIP-seq',\n",
       " 'CUT&RUN',\n",
       " 'MC-Hi-C',\n",
       " 'MC-3C',\n",
       " 'RNA-DNA SPRITE',\n",
       " 'SPT',\n",
       " 'sn-Hi-C',\n",
       " 'RNA-seq',\n",
       " 'NAD-seq',\n",
       " 'TrAC-loop',\n",
       " 'RNA FISH']"
      ]
     },
     "execution_count": 7,
     "metadata": {},
     "output_type": "execute_result"
    }
   ],
   "source": [
    "exp_types"
   ]
  },
  {
   "cell_type": "code",
   "execution_count": 8,
   "metadata": {},
   "outputs": [],
   "source": [
    "# list of selected assays - change as needed, referring to list above.\n",
    "selected_assays = [\n",
    "    'in situ Hi-C', 'ChIA-PET', 'DNase Hi-C', 'Capture Hi-C',\n",
    "    'PLAC-seq', 'Micro-C', 'in situ ChIA-PET', 'DNA SPRITE'\n",
    "]"
   ]
  },
  {
   "cell_type": "code",
   "execution_count": 9,
   "metadata": {},
   "outputs": [],
   "source": [
    "# grab all experiment sets from the selected assays - may take a min\n",
    "experiment_sets_url = 'search/?type=ExperimentSetReplicate&experiments_in_set.experiment_type='\n",
    "experiment_sets_url += '&experiments_in_set.experiment_type='.join(selected_assays)\n",
    "selected_expsets = ff_utils.search_metadata(experiment_sets_url, key=my_key)"
   ]
  },
  {
   "cell_type": "code",
   "execution_count": 10,
   "metadata": {},
   "outputs": [
    {
     "data": {
      "text/plain": [
       "328"
      ]
     },
     "execution_count": 10,
     "metadata": {},
     "output_type": "execute_result"
    }
   ],
   "source": [
    "len(selected_expsets)"
   ]
  },
  {
   "cell_type": "code",
   "execution_count": 11,
   "metadata": {},
   "outputs": [],
   "source": [
    "# function for downloading a file using your credentials\n",
    "def download_file(url, key, dest_folder=''):\n",
    "    local_filename = dest_folder + url.split('/')[-1]\n",
    "    # NOTE the stream=True parameter below\n",
    "    with requests.get(url, auth=(key['key'], key['secret']), stream=True) as r:\n",
    "        r.raise_for_status()\n",
    "        with open(local_filename, 'wb') as f:\n",
    "            for chunk in r.iter_content(chunk_size=8192): \n",
    "                if chunk: # filter out keep-alive new chunks\n",
    "                    f.write(chunk)\n",
    "                    # f.flush()\n",
    "    return local_filename"
   ]
  },
  {
   "cell_type": "code",
   "execution_count": 15,
   "metadata": {},
   "outputs": [],
   "source": [
    "# iterate through biosources and assays to find the mcool processed files\n",
    "files_of_interest = []\n",
    "for biosource in biosources:\n",
    "    # filter for experiment sets with the right biosource\n",
    "    filtered_by_biosource = [item for item in selected_expsets if (\n",
    "        biosource['display_title'] in [exp.get('biosample', {}).get('biosource', [])[0].get('display_title') \n",
    "                      for exp in item.get('experiments_in_set', [])]\n",
    "    )]\n",
    "    for assay in selected_assays:\n",
    "        # filter for experiment sets with the right biosource + right assay type\n",
    "        filtered_by_assay = [item for item in filtered_by_biosource if (\n",
    "            assay in [exp.get('experiment_type', {}).get('display_title') \n",
    "                      for exp in item.get('experiments_in_set', [])]\n",
    "        )]\n",
    "        for expset in filtered_by_assay:\n",
    "            # find processed files of specified format\n",
    "            for procfile in expset.get('processed_files', []):\n",
    "                # change to correct format(s) if different filetype desired\n",
    "                if procfile.get('display_title').endswith('.mcool'):\n",
    "                    files_of_interest.append(\n",
    "                        [biosource['display_title'], assay, expset['accession'], procfile.get('href')]\n",
    "                    )  # additional pieces of metadata could be added, if desired\n",
    "            for opf_coll in expset.get('other_processed_files', []):\n",
    "                for opf in opf_coll.get('files'):\n",
    "                    if opf.get('display_title').endswith('.mcool'):\n",
    "                        files_of_interest.append(\n",
    "                            [biosource['display_title'], assay, expset['accession'], opf.get('href')]\n",
    "                        )\n",
    "\n",
    "#print('\\n'.join(['\\t'.join(item) for item in files_of_interest]))"
   ]
  },
  {
   "cell_type": "code",
   "execution_count": 16,
   "metadata": {},
   "outputs": [],
   "source": [
    "# save file with minimal metadata, so you can remember what experiment sets the contact matrices are from\n",
    "with open('metadata.tsv', 'w') as outfile:\n",
    "    outfile.write('Biosource\\tAssay Type\\tExperimentSetAccession\\tProcessedFileHref\\n')\n",
    "    for item in files_of_interest:\n",
    "        outfile.write('\\t'.join(item) + '\\n')"
   ]
  },
  {
   "cell_type": "code",
   "execution_count": null,
   "metadata": {},
   "outputs": [],
   "source": [
    "for item in files_of_interest:\n",
    "    download_file('https://data.4dnucleome.org' + item[-1], key=my_key, dest_folder='')"
   ]
  }
 ],
 "metadata": {
  "kernelspec": {
   "display_name": "Python 3",
   "language": "python",
   "name": "python3"
  },
  "language_info": {
   "codemirror_mode": {
    "name": "ipython",
    "version": 3
   },
   "file_extension": ".py",
   "mimetype": "text/x-python",
   "name": "python",
   "nbconvert_exporter": "python",
   "pygments_lexer": "ipython3",
   "version": "3.5.0"
  }
 },
 "nbformat": 4,
 "nbformat_minor": 2
}
